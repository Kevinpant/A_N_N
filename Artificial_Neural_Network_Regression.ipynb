{
  "nbformat": 4,
  "nbformat_minor": 0,
  "metadata": {
    "colab": {
      "name": "Copy of Artificial Neural Network",
      "provenance": [],
      "collapsed_sections": []
    },
    "kernelspec": {
      "name": "python3",
      "display_name": "Python 3"
    }
  },
  "cells": [
    {
      "cell_type": "markdown",
      "metadata": {
        "id": "3cbb7fRy-eyr",
        "colab_type": "text"
      },
      "source": [
        "# Artificial Neural Network"
      ]
    },
    {
      "cell_type": "markdown",
      "metadata": {
        "id": "nLRPmWtg4xzU",
        "colab_type": "text"
      },
      "source": [
        "Building an ANN Regression model to predict the electrical energy output of a Combined Cycle Power Plant"
      ]
    },
    {
      "cell_type": "markdown",
      "metadata": {
        "id": "8sNDnxE2-pwE",
        "colab_type": "text"
      },
      "source": [
        "### Importing the libraries"
      ]
    },
    {
      "cell_type": "code",
      "metadata": {
        "id": "lxChR1Rk-umf",
        "colab_type": "code",
        "colab": {}
      },
      "source": [
        "import numpy as np\n",
        "import pandas as pd\n",
        "import tensorflow as tf"
      ],
      "execution_count": 0,
      "outputs": []
    },
    {
      "cell_type": "code",
      "metadata": {
        "id": "uBTqR3nacj0e",
        "colab_type": "code",
        "outputId": "74a60646-ea71-44a6-d3c5-650b9e2926f8",
        "colab": {
          "base_uri": "https://localhost:8080/",
          "height": 35
        }
      },
      "source": [
        "tf.__version__"
      ],
      "execution_count": 2,
      "outputs": [
        {
          "output_type": "execute_result",
          "data": {
            "text/plain": [
              "'2.2.0'"
            ]
          },
          "metadata": {
            "tags": []
          },
          "execution_count": 2
        }
      ]
    },
    {
      "cell_type": "markdown",
      "metadata": {
        "id": "AG3FQEch-yuA",
        "colab_type": "text"
      },
      "source": [
        "## Part 1 - Data Preprocessing"
      ]
    },
    {
      "cell_type": "markdown",
      "metadata": {
        "id": "-4zq8Mza_D9O",
        "colab_type": "text"
      },
      "source": [
        "### Importing the dataset"
      ]
    },
    {
      "cell_type": "code",
      "metadata": {
        "id": "B9CV13Co_HHM",
        "colab_type": "code",
        "colab": {}
      },
      "source": [
        "dataset = pd.read_excel('Regression_ANN.xlsx')\n",
        "X = dataset.iloc[:, :-1].values\n",
        "y = dataset.iloc[:, -1].values"
      ],
      "execution_count": 0,
      "outputs": []
    },
    {
      "cell_type": "code",
      "metadata": {
        "id": "Xs7YiTLK4MXf",
        "colab_type": "code",
        "colab": {
          "base_uri": "https://localhost:8080/",
          "height": 141
        },
        "outputId": "f296babf-4071-4c51-9e89-e654cecbfca0"
      },
      "source": [
        "print(X)"
      ],
      "execution_count": 6,
      "outputs": [
        {
          "output_type": "stream",
          "text": [
            "[[  14.96   41.76 1024.07   73.17]\n",
            " [  25.18   62.96 1020.04   59.08]\n",
            " [   5.11   39.4  1012.16   92.14]\n",
            " ...\n",
            " [  31.32   74.33 1012.92   36.48]\n",
            " [  24.48   69.45 1013.86   62.39]\n",
            " [  21.6    62.52 1017.23   67.87]]\n"
          ],
          "name": "stdout"
        }
      ]
    },
    {
      "cell_type": "code",
      "metadata": {
        "id": "_7IwRQ2-4Myq",
        "colab_type": "code",
        "colab": {
          "base_uri": "https://localhost:8080/",
          "height": 35
        },
        "outputId": "a5000f18-98aa-4d18-d618-18ce509dd3cf"
      },
      "source": [
        "print(y)"
      ],
      "execution_count": 7,
      "outputs": [
        {
          "output_type": "stream",
          "text": [
            "[463.26 444.37 488.56 ... 429.57 435.74 453.28]\n"
          ],
          "name": "stdout"
        }
      ]
    },
    {
      "cell_type": "markdown",
      "metadata": {
        "id": "VC6omXel_Up0",
        "colab_type": "text"
      },
      "source": [
        "### Splitting the dataset into the Training set and Test set"
      ]
    },
    {
      "cell_type": "code",
      "metadata": {
        "id": "L5edeb2r_agx",
        "colab_type": "code",
        "colab": {}
      },
      "source": [
        "from sklearn.model_selection import train_test_split\n",
        "X_train, X_test, y_train, y_test = train_test_split(X, y, test_size = 0.2, random_state = 0)"
      ],
      "execution_count": 0,
      "outputs": []
    },
    {
      "cell_type": "markdown",
      "metadata": {
        "id": "_mSLlAT9_eyI",
        "colab_type": "text"
      },
      "source": [
        "## Part 2 - Building the ANN"
      ]
    },
    {
      "cell_type": "markdown",
      "metadata": {
        "id": "CsBULd_f_wLY",
        "colab_type": "text"
      },
      "source": [
        "### Initializing the ANN"
      ]
    },
    {
      "cell_type": "markdown",
      "metadata": {
        "id": "JZ6cch6i5wLX",
        "colab_type": "text"
      },
      "source": [
        " sequential class will exactly create an artificial new network initialized as a sequence of layers."
      ]
    },
    {
      "cell_type": "code",
      "metadata": {
        "id": "J6Hd97Ls__Nz",
        "colab_type": "code",
        "colab": {}
      },
      "source": [
        "ann = tf.keras.models.Sequential()"
      ],
      "execution_count": 0,
      "outputs": []
    },
    {
      "cell_type": "markdown",
      "metadata": {
        "id": "iitAFJS_ABUn",
        "colab_type": "text"
      },
      "source": [
        "### Adding the input layer and the first hidden layer"
      ]
    },
    {
      "cell_type": "markdown",
      "metadata": {
        "id": "FDlANgFF7WpN",
        "colab_type": "text"
      },
      "source": [
        "units = the number of hidden neurons in this first hidden layer."
      ]
    },
    {
      "cell_type": "code",
      "metadata": {
        "id": "ksO_Vv40AHix",
        "colab_type": "code",
        "colab": {}
      },
      "source": [
        "ann.add(tf.keras.layers.Dense(units=6, activation='relu'))"
      ],
      "execution_count": 0,
      "outputs": []
    },
    {
      "cell_type": "markdown",
      "metadata": {
        "id": "-lb4kK_wAKbs",
        "colab_type": "text"
      },
      "source": [
        "### Adding the second hidden layer"
      ]
    },
    {
      "cell_type": "code",
      "metadata": {
        "id": "c2357OqEAQOQ",
        "colab_type": "code",
        "colab": {}
      },
      "source": [
        "ann.add(tf.keras.layers.Dense(units=6, activation='relu'))"
      ],
      "execution_count": 0,
      "outputs": []
    },
    {
      "cell_type": "markdown",
      "metadata": {
        "id": "jwMOmKb3AdBY",
        "colab_type": "text"
      },
      "source": [
        "### Adding the output layer"
      ]
    },
    {
      "cell_type": "markdown",
      "metadata": {
        "id": "mUSWPNW58S91",
        "colab_type": "text"
      },
      "source": [
        "NO ACTIVATION FUNCTION needed for REGRESSION problems. (cause we need a cont. number as an answer)"
      ]
    },
    {
      "cell_type": "code",
      "metadata": {
        "id": "YFATpzsUAkLL",
        "colab_type": "code",
        "colab": {}
      },
      "source": [
        "ann.add(tf.keras.layers.Dense(units=1))"
      ],
      "execution_count": 0,
      "outputs": []
    },
    {
      "cell_type": "markdown",
      "metadata": {
        "id": "fq7e4fF6A1yy",
        "colab_type": "text"
      },
      "source": [
        "## Part 3 - Training the ANN"
      ]
    },
    {
      "cell_type": "markdown",
      "metadata": {
        "id": "qDeylAs2An25",
        "colab_type": "text"
      },
      "source": [
        "### Compiling the ANN"
      ]
    },
    {
      "cell_type": "markdown",
      "metadata": {
        "id": "vDvc4UpK8rm7",
        "colab_type": "text"
      },
      "source": [
        "Optimizer = 'adam' (Stochastic GD) <br/>\n",
        "Loss for Regression is ALWAYS MSE  'mean_squared_error'"
      ]
    },
    {
      "cell_type": "code",
      "metadata": {
        "id": "pesgbWlCAtB4",
        "colab_type": "code",
        "colab": {}
      },
      "source": [
        "ann.compile(optimizer = 'adam', loss = 'mean_squared_error')"
      ],
      "execution_count": 0,
      "outputs": []
    },
    {
      "cell_type": "markdown",
      "metadata": {
        "id": "YjVuiybYOo7r",
        "colab_type": "text"
      },
      "source": [
        "### Training the ANN model on the Training set"
      ]
    },
    {
      "cell_type": "code",
      "metadata": {
        "id": "c_vV-tiiA5zn",
        "colab_type": "code",
        "outputId": "979223fa-f0d5-4580-a743-7c61055af570",
        "colab": {
          "base_uri": "https://localhost:8080/",
          "height": 1000
        }
      },
      "source": [
        "ann.fit(X_train, y_train, batch_size = 32, epochs = 100)"
      ],
      "execution_count": 14,
      "outputs": [
        {
          "output_type": "stream",
          "text": [
            "Epoch 1/100\n",
            "240/240 [==============================] - 0s 1ms/step - loss: 220778.9062\n",
            "Epoch 2/100\n",
            "240/240 [==============================] - 0s 1ms/step - loss: 721.8394\n",
            "Epoch 3/100\n",
            "240/240 [==============================] - 0s 1ms/step - loss: 436.2952\n",
            "Epoch 4/100\n",
            "240/240 [==============================] - 0s 1ms/step - loss: 425.0470\n",
            "Epoch 5/100\n",
            "240/240 [==============================] - 0s 1ms/step - loss: 411.8244\n",
            "Epoch 6/100\n",
            "240/240 [==============================] - 0s 998us/step - loss: 396.5707\n",
            "Epoch 7/100\n",
            "240/240 [==============================] - 0s 1ms/step - loss: 378.8057\n",
            "Epoch 8/100\n",
            "240/240 [==============================] - 0s 1ms/step - loss: 360.0521\n",
            "Epoch 9/100\n",
            "240/240 [==============================] - 0s 1ms/step - loss: 339.2090\n",
            "Epoch 10/100\n",
            "240/240 [==============================] - 0s 983us/step - loss: 316.9241\n",
            "Epoch 11/100\n",
            "240/240 [==============================] - 0s 1ms/step - loss: 293.2366\n",
            "Epoch 12/100\n",
            "240/240 [==============================] - 0s 1ms/step - loss: 268.6392\n",
            "Epoch 13/100\n",
            "240/240 [==============================] - 0s 1ms/step - loss: 243.1735\n",
            "Epoch 14/100\n",
            "240/240 [==============================] - 0s 1ms/step - loss: 217.6503\n",
            "Epoch 15/100\n",
            "240/240 [==============================] - 0s 1ms/step - loss: 191.8495\n",
            "Epoch 16/100\n",
            "240/240 [==============================] - 0s 1ms/step - loss: 167.0139\n",
            "Epoch 17/100\n",
            "240/240 [==============================] - 0s 1ms/step - loss: 143.4403\n",
            "Epoch 18/100\n",
            "240/240 [==============================] - 0s 1ms/step - loss: 120.9978\n",
            "Epoch 19/100\n",
            "240/240 [==============================] - 0s 1ms/step - loss: 100.5355\n",
            "Epoch 20/100\n",
            "240/240 [==============================] - 0s 1ms/step - loss: 82.8895\n",
            "Epoch 21/100\n",
            "240/240 [==============================] - 0s 990us/step - loss: 67.8971\n",
            "Epoch 22/100\n",
            "240/240 [==============================] - 0s 995us/step - loss: 55.9491\n",
            "Epoch 23/100\n",
            "240/240 [==============================] - 0s 1ms/step - loss: 46.7432\n",
            "Epoch 24/100\n",
            "240/240 [==============================] - 0s 1ms/step - loss: 40.7406\n",
            "Epoch 25/100\n",
            "240/240 [==============================] - 0s 1ms/step - loss: 35.7558\n",
            "Epoch 26/100\n",
            "240/240 [==============================] - 0s 998us/step - loss: 33.1016\n",
            "Epoch 27/100\n",
            "240/240 [==============================] - 0s 993us/step - loss: 31.0325\n",
            "Epoch 28/100\n",
            "240/240 [==============================] - 0s 1ms/step - loss: 30.1229\n",
            "Epoch 29/100\n",
            "240/240 [==============================] - 0s 1ms/step - loss: 29.3527\n",
            "Epoch 30/100\n",
            "240/240 [==============================] - 0s 967us/step - loss: 28.8616\n",
            "Epoch 31/100\n",
            "240/240 [==============================] - 0s 984us/step - loss: 28.2462\n",
            "Epoch 32/100\n",
            "240/240 [==============================] - 0s 1ms/step - loss: 28.3797\n",
            "Epoch 33/100\n",
            "240/240 [==============================] - 0s 1ms/step - loss: 28.0271\n",
            "Epoch 34/100\n",
            "240/240 [==============================] - 0s 1ms/step - loss: 27.8953\n",
            "Epoch 35/100\n",
            "240/240 [==============================] - 0s 1ms/step - loss: 28.0140\n",
            "Epoch 36/100\n",
            "240/240 [==============================] - 0s 1ms/step - loss: 27.6568\n",
            "Epoch 37/100\n",
            "240/240 [==============================] - 0s 979us/step - loss: 27.8514\n",
            "Epoch 38/100\n",
            "240/240 [==============================] - 0s 996us/step - loss: 27.7254\n",
            "Epoch 39/100\n",
            "240/240 [==============================] - 0s 990us/step - loss: 27.4234\n",
            "Epoch 40/100\n",
            "240/240 [==============================] - 0s 1ms/step - loss: 27.5951\n",
            "Epoch 41/100\n",
            "240/240 [==============================] - 0s 1ms/step - loss: 28.0504\n",
            "Epoch 42/100\n",
            "240/240 [==============================] - 0s 1ms/step - loss: 27.3116\n",
            "Epoch 43/100\n",
            "240/240 [==============================] - 0s 1ms/step - loss: 27.4345\n",
            "Epoch 44/100\n",
            "240/240 [==============================] - 0s 1ms/step - loss: 27.6698\n",
            "Epoch 45/100\n",
            "240/240 [==============================] - 0s 1ms/step - loss: 28.0509\n",
            "Epoch 46/100\n",
            "240/240 [==============================] - 0s 1ms/step - loss: 27.8034\n",
            "Epoch 47/100\n",
            "240/240 [==============================] - 0s 1ms/step - loss: 28.5173\n",
            "Epoch 48/100\n",
            "240/240 [==============================] - 0s 1ms/step - loss: 27.2585\n",
            "Epoch 49/100\n",
            "240/240 [==============================] - 0s 1ms/step - loss: 26.7016\n",
            "Epoch 50/100\n",
            "240/240 [==============================] - 0s 1ms/step - loss: 27.1597\n",
            "Epoch 51/100\n",
            "240/240 [==============================] - 0s 1ms/step - loss: 27.6647\n",
            "Epoch 52/100\n",
            "240/240 [==============================] - 0s 1ms/step - loss: 27.0087\n",
            "Epoch 53/100\n",
            "240/240 [==============================] - 0s 1ms/step - loss: 28.0950\n",
            "Epoch 54/100\n",
            "240/240 [==============================] - 0s 962us/step - loss: 26.8018\n",
            "Epoch 55/100\n",
            "240/240 [==============================] - 0s 1ms/step - loss: 27.3063\n",
            "Epoch 56/100\n",
            "240/240 [==============================] - 0s 1ms/step - loss: 27.1859\n",
            "Epoch 57/100\n",
            "240/240 [==============================] - 0s 1ms/step - loss: 26.9007\n",
            "Epoch 58/100\n",
            "240/240 [==============================] - 0s 1ms/step - loss: 28.1922\n",
            "Epoch 59/100\n",
            "240/240 [==============================] - 0s 1ms/step - loss: 27.2293\n",
            "Epoch 60/100\n",
            "240/240 [==============================] - 0s 1ms/step - loss: 27.1197\n",
            "Epoch 61/100\n",
            "240/240 [==============================] - 0s 1000us/step - loss: 27.1235\n",
            "Epoch 62/100\n",
            "240/240 [==============================] - 0s 980us/step - loss: 27.0521\n",
            "Epoch 63/100\n",
            "240/240 [==============================] - 0s 1ms/step - loss: 27.8406\n",
            "Epoch 64/100\n",
            "240/240 [==============================] - 0s 1ms/step - loss: 27.9363\n",
            "Epoch 65/100\n",
            "240/240 [==============================] - 0s 1ms/step - loss: 26.8499\n",
            "Epoch 66/100\n",
            "240/240 [==============================] - 0s 987us/step - loss: 26.9389\n",
            "Epoch 67/100\n",
            "240/240 [==============================] - 0s 1ms/step - loss: 26.6591\n",
            "Epoch 68/100\n",
            "240/240 [==============================] - 0s 1ms/step - loss: 27.5729\n",
            "Epoch 69/100\n",
            "240/240 [==============================] - 0s 1ms/step - loss: 27.0046\n",
            "Epoch 70/100\n",
            "240/240 [==============================] - 0s 1ms/step - loss: 27.1466\n",
            "Epoch 71/100\n",
            "240/240 [==============================] - 0s 1ms/step - loss: 27.0299\n",
            "Epoch 72/100\n",
            "240/240 [==============================] - 0s 1ms/step - loss: 26.7907\n",
            "Epoch 73/100\n",
            "240/240 [==============================] - 0s 993us/step - loss: 27.3326\n",
            "Epoch 74/100\n",
            "240/240 [==============================] - 0s 1ms/step - loss: 26.8595\n",
            "Epoch 75/100\n",
            "240/240 [==============================] - 0s 995us/step - loss: 27.1680\n",
            "Epoch 76/100\n",
            "240/240 [==============================] - 0s 1ms/step - loss: 27.9054\n",
            "Epoch 77/100\n",
            "240/240 [==============================] - 0s 992us/step - loss: 26.6297\n",
            "Epoch 78/100\n",
            "240/240 [==============================] - 0s 993us/step - loss: 27.5588\n",
            "Epoch 79/100\n",
            "240/240 [==============================] - 0s 992us/step - loss: 26.9677\n",
            "Epoch 80/100\n",
            "240/240 [==============================] - 0s 1ms/step - loss: 26.7024\n",
            "Epoch 81/100\n",
            "240/240 [==============================] - 0s 985us/step - loss: 27.8072\n",
            "Epoch 82/100\n",
            "240/240 [==============================] - 0s 990us/step - loss: 26.9625\n",
            "Epoch 83/100\n",
            "240/240 [==============================] - 0s 996us/step - loss: 27.3486\n",
            "Epoch 84/100\n",
            "240/240 [==============================] - 0s 1ms/step - loss: 26.8360\n",
            "Epoch 85/100\n",
            "240/240 [==============================] - 0s 1ms/step - loss: 26.9985\n",
            "Epoch 86/100\n",
            "240/240 [==============================] - 0s 1ms/step - loss: 26.8794\n",
            "Epoch 87/100\n",
            "240/240 [==============================] - 0s 1ms/step - loss: 26.7097\n",
            "Epoch 88/100\n",
            "240/240 [==============================] - 0s 1ms/step - loss: 26.9145\n",
            "Epoch 89/100\n",
            "240/240 [==============================] - 0s 1ms/step - loss: 27.0768\n",
            "Epoch 90/100\n",
            "240/240 [==============================] - 0s 1ms/step - loss: 27.3812\n",
            "Epoch 91/100\n",
            "240/240 [==============================] - 0s 1ms/step - loss: 27.0237\n",
            "Epoch 92/100\n",
            "240/240 [==============================] - 0s 1ms/step - loss: 27.1522\n",
            "Epoch 93/100\n",
            "240/240 [==============================] - 0s 988us/step - loss: 27.3929\n",
            "Epoch 94/100\n",
            "240/240 [==============================] - 0s 994us/step - loss: 27.8538\n",
            "Epoch 95/100\n",
            "240/240 [==============================] - 0s 1ms/step - loss: 27.0874\n",
            "Epoch 96/100\n",
            "240/240 [==============================] - 0s 1ms/step - loss: 26.4564\n",
            "Epoch 97/100\n",
            "240/240 [==============================] - 0s 1ms/step - loss: 26.9694\n",
            "Epoch 98/100\n",
            "240/240 [==============================] - 0s 983us/step - loss: 27.7760\n",
            "Epoch 99/100\n",
            "240/240 [==============================] - 0s 987us/step - loss: 27.1469\n",
            "Epoch 100/100\n",
            "240/240 [==============================] - 0s 1ms/step - loss: 27.4074\n"
          ],
          "name": "stdout"
        },
        {
          "output_type": "execute_result",
          "data": {
            "text/plain": [
              "<tensorflow.python.keras.callbacks.History at 0x7fe041960dd8>"
            ]
          },
          "metadata": {
            "tags": []
          },
          "execution_count": 14
        }
      ]
    },
    {
      "cell_type": "markdown",
      "metadata": {
        "id": "0H0zKKNEBLD5",
        "colab_type": "text"
      },
      "source": [
        "### Predicting the results of the Test set"
      ]
    },
    {
      "cell_type": "code",
      "metadata": {
        "id": "IA0yApEmBG1X",
        "colab_type": "code",
        "outputId": "74b43209-fc7b-409d-f685-23b60b997f51",
        "colab": {
          "base_uri": "https://localhost:8080/",
          "height": 141
        }
      },
      "source": [
        "y_pred = ann.predict(X_test)\n",
        "np.set_printoptions(precision=2)\n",
        "print(np.concatenate((y_pred.reshape(len(y_pred),1), y_test.reshape(len(y_test),1)),1))"
      ],
      "execution_count": 15,
      "outputs": [
        {
          "output_type": "stream",
          "text": [
            "[[431.71 431.23]\n",
            " [462.77 460.01]\n",
            " [466.24 461.14]\n",
            " ...\n",
            " [473.52 473.26]\n",
            " [440.27 438.  ]\n",
            " [459.51 463.28]]\n"
          ],
          "name": "stdout"
        }
      ]
    },
    {
      "cell_type": "code",
      "metadata": {
        "id": "RIh8srwP9hM_",
        "colab_type": "code",
        "colab": {}
      },
      "source": [
        ""
      ],
      "execution_count": 0,
      "outputs": []
    }
  ]
}